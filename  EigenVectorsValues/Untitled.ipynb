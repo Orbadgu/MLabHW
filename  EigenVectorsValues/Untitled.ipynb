{
 "cells": [
  {
   "cell_type": "code",
   "execution_count": 1,
   "id": "5a5eb655-a322-427f-8a97-4891348586fc",
   "metadata": {},
   "outputs": [
    {
     "name": "stdout",
     "output_type": "stream",
     "text": [
      "Numpy eig: [3. 2.]\n",
      "Manual: [3. 2.]\n"
     ]
    }
   ],
   "source": [
    "import numpy as np\n",
    "from numpy.linalg import eig\n",
    "\n",
    "A = np.array([[4, -2],\n",
    "              [1,  1]])\n",
    "\n",
    "eigvals, eigvecs = eig(A)\n",
    "\n",
    "def manual_eigenvalues_2x2(matrix):\n",
    "    a, b = matrix[0]\n",
    "    c, d = matrix[1]\n",
    "    trace = a + d\n",
    "    det = a * d - b * c\n",
    "    discriminant = trace ** 2 - 4 * det\n",
    "    lambda1 = (trace + np.sqrt(discriminant)) / 2\n",
    "    lambda2 = (trace - np.sqrt(discriminant)) / 2\n",
    "    return np.array([lambda1, lambda2])\n",
    "\n",
    "manual_vals = manual_eigenvalues_2x2(A)\n",
    "\n",
    "print(\"Numpy eig:\", eigvals)\n",
    "print(\"Manual:\", manual_vals)\n"
   ]
  },
  {
   "cell_type": "code",
   "execution_count": null,
   "id": "ed68e43b-6b2a-4112-a0b3-42907d5ca598",
   "metadata": {},
   "outputs": [],
   "source": []
  }
 ],
 "metadata": {
  "kernelspec": {
   "display_name": "Python 3 (ipykernel)",
   "language": "python",
   "name": "python3"
  },
  "language_info": {
   "codemirror_mode": {
    "name": "ipython",
    "version": 3
   },
   "file_extension": ".py",
   "mimetype": "text/x-python",
   "name": "python",
   "nbconvert_exporter": "python",
   "pygments_lexer": "ipython3",
   "version": "3.13.2"
  }
 },
 "nbformat": 4,
 "nbformat_minor": 5
}
