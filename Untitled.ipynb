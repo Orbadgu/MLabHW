{
 "cells": [
  {
   "cell_type": "code",
   "execution_count": null,
   "id": "c242b03e-a326-46dd-9eb3-eac426fe8421",
   "metadata": {},
   "outputs": [],
   "source": []
  }
 ],
 "metadata": {
  "kernelspec": {
   "display_name": "",
   "name": ""
  },
  "language_info": {
   "name": ""
  }
 },
 "nbformat": 4,
 "nbformat_minor": 5
}
